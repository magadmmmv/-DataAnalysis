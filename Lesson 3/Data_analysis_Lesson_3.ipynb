{
 "cells": [
  {
   "cell_type": "markdown",
   "metadata": {},
   "source": [
    "## <center>Практическая часть<a class=\"anchor\" id=\"practice\"></a><center>"
   ]
  },
  {
   "cell_type": "code",
   "execution_count": 2,
   "metadata": {},
   "outputs": [],
   "source": [
    "import numpy as np\n",
    "import matplotlib.pyplot as plt"
   ]
  },
  {
   "cell_type": "code",
   "execution_count": 3,
   "metadata": {},
   "outputs": [],
   "source": [
    "X = np.array([ [   1,    1,  500,    1],\n",
    "               [   1,    1,  700,    1],\n",
    "               [   1,    2,  750,    2],\n",
    "               [   1,    5,  600,    1],\n",
    "               [   1,    3, 1450,    2],\n",
    "               [   1,    0,  800,    1],\n",
    "               [   1,    5, 1500,    3],\n",
    "               [   1,   10, 2000,    3],\n",
    "               [   1,    1,  450,    1],\n",
    "               [   1,    2, 1000,    2]], dtype = np.float64)\n",
    "\n",
    "y = np.array([0, 0, 1, 0, 1, 0, 1, 0, 1, 1], dtype = np.float64)"
   ]
  },
  {
   "cell_type": "code",
   "execution_count": 4,
   "metadata": {},
   "outputs": [
    {
     "data": {
      "text/plain": [
       "array([[1.00e+00, 1.00e+00, 5.00e+02, 1.00e+00],\n",
       "       [1.00e+00, 1.00e+00, 7.00e+02, 1.00e+00],\n",
       "       [1.00e+00, 2.00e+00, 7.50e+02, 2.00e+00],\n",
       "       [1.00e+00, 5.00e+00, 6.00e+02, 1.00e+00],\n",
       "       [1.00e+00, 3.00e+00, 1.45e+03, 2.00e+00],\n",
       "       [1.00e+00, 0.00e+00, 8.00e+02, 1.00e+00],\n",
       "       [1.00e+00, 5.00e+00, 1.50e+03, 3.00e+00],\n",
       "       [1.00e+00, 1.00e+01, 2.00e+03, 3.00e+00],\n",
       "       [1.00e+00, 1.00e+00, 4.50e+02, 1.00e+00],\n",
       "       [1.00e+00, 2.00e+00, 1.00e+03, 2.00e+00]])"
      ]
     },
     "execution_count": 4,
     "metadata": {},
     "output_type": "execute_result"
    }
   ],
   "source": [
    "X"
   ]
  },
  {
   "cell_type": "code",
   "execution_count": 5,
   "metadata": {},
   "outputs": [
    {
     "data": {
      "text/plain": [
       "array([0., 0., 1., 0., 1., 0., 1., 0., 1., 1.])"
      ]
     },
     "execution_count": 5,
     "metadata": {},
     "output_type": "execute_result"
    }
   ],
   "source": [
    "y"
   ]
  },
  {
   "cell_type": "code",
   "execution_count": 6,
   "metadata": {},
   "outputs": [],
   "source": [
    "def standard_scale(x):\n",
    "    res = (x - x.mean()) / x.std()\n",
    "    return res"
   ]
  },
  {
   "cell_type": "code",
   "execution_count": 7,
   "metadata": {},
   "outputs": [],
   "source": [
    "X_st = X.copy()\n",
    "X_st[:, 2] = standard_scale(X[:, 2])"
   ]
  },
  {
   "cell_type": "code",
   "execution_count": 8,
   "metadata": {},
   "outputs": [
    {
     "data": {
      "text/plain": [
       "array([[ 1.        ,  1.        , -0.97958969,  1.        ],\n",
       "       [ 1.        ,  1.        , -0.56713087,  1.        ],\n",
       "       [ 1.        ,  2.        , -0.46401617,  2.        ],\n",
       "       [ 1.        ,  5.        , -0.77336028,  1.        ],\n",
       "       [ 1.        ,  3.        ,  0.97958969,  2.        ],\n",
       "       [ 1.        ,  0.        , -0.36090146,  1.        ],\n",
       "       [ 1.        ,  5.        ,  1.08270439,  3.        ],\n",
       "       [ 1.        , 10.        ,  2.11385144,  3.        ],\n",
       "       [ 1.        ,  1.        , -1.08270439,  1.        ],\n",
       "       [ 1.        ,  2.        ,  0.05155735,  2.        ]])"
      ]
     },
     "execution_count": 8,
     "metadata": {},
     "output_type": "execute_result"
    }
   ],
   "source": [
    "X_st"
   ]
  },
  {
   "cell_type": "code",
   "execution_count": 9,
   "metadata": {},
   "outputs": [],
   "source": [
    "def calc_logloss(y, y_pred):\n",
    "    err = - np.mean(y * np.log(y_pred) + (1.0 - y) * np.log(1.0 - y_pred))\n",
    "    return err"
   ]
  },
  {
   "cell_type": "code",
   "execution_count": 10,
   "metadata": {},
   "outputs": [
    {
     "data": {
      "text/plain": [
       "0.164252033486018"
      ]
     },
     "execution_count": 10,
     "metadata": {},
     "output_type": "execute_result"
    }
   ],
   "source": [
    "# Пример применения\n",
    "y1 = np.array([1, 0])\n",
    "y_pred1 = np.array([0.8, 0.1])\n",
    "calc_logloss(y1, y_pred1)"
   ]
  },
  {
   "cell_type": "code",
   "execution_count": 11,
   "metadata": {},
   "outputs": [
    {
     "name": "stderr",
     "output_type": "stream",
     "text": [
      "C:\\Users\\Magad\\anaconda3\\lib\\site-packages\\ipykernel_launcher.py:2: RuntimeWarning: divide by zero encountered in log\n",
      "  \n",
      "C:\\Users\\Magad\\anaconda3\\lib\\site-packages\\ipykernel_launcher.py:2: RuntimeWarning: invalid value encountered in multiply\n",
      "  \n"
     ]
    },
    {
     "data": {
      "text/plain": [
       "nan"
      ]
     },
     "execution_count": 11,
     "metadata": {},
     "output_type": "execute_result"
    }
   ],
   "source": [
    "# Плохой пример применения\n",
    "y1 = np.array([1, 0])\n",
    "y_pred1 = np.array([1, 0.1])\n",
    "calc_logloss(y1, y_pred1)"
   ]
  },
  {
   "cell_type": "code",
   "execution_count": 12,
   "metadata": {},
   "outputs": [],
   "source": [
    "def sigmoid(z):\n",
    "    res = 1 / (1 + np.exp(-z))\n",
    "    return res"
   ]
  },
  {
   "cell_type": "code",
   "execution_count": 13,
   "metadata": {},
   "outputs": [],
   "source": [
    "z = np.linspace(-10, 10, 101)"
   ]
  },
  {
   "cell_type": "code",
   "execution_count": 14,
   "metadata": {},
   "outputs": [],
   "source": [
    "probabilities = sigmoid(z)"
   ]
  },
  {
   "cell_type": "code",
   "execution_count": 15,
   "metadata": {},
   "outputs": [
    {
     "data": {
      "image/png": "[encoded data removed]",
      "text/plain": [
       "<Figure size 432x288 with 1 Axes>"
      ]
     },
     "metadata": {
      "needs_background": "light"
     },
     "output_type": "display_data"
    }
   ],
   "source": [
    "plt.plot(z, probabilities)\n",
    "plt.show()"
   ]
  },
  {
   "cell_type": "markdown",
   "metadata": {},
   "source": [
    "Logistic Regression"
   ]
  },
  {
   "cell_type": "code",
   "execution_count": 16,
   "metadata": {},
   "outputs": [],
   "source": [
    "def eval_model_print(X, y, iterations, eta=1e-4):\n",
    "    np.random.seed(42)\n",
    "    W = np.random.randn(X.shape[1])\n",
    "    n = X.shape[0]\n",
    "    \n",
    "    for i in range(iterations):\n",
    "        z = np.dot(X, W)\n",
    "        y_pred = sigmoid(z)\n",
    "        err = calc_logloss(y, y_pred)\n",
    "        \n",
    "        dQ = 1/n * X.T @ (y_pred - y)\n",
    "        W -= eta * dQ\n",
    "        if i % (iterations / 10) == 0:\n",
    "            print(i, W, err)\n",
    "    \n",
    "    print(iterations, W, err)\n",
    "    \n",
    "    return W"
   ]
  },
  {
   "cell_type": "code",
   "execution_count": 106,
   "metadata": {},
   "outputs": [
    {
     "name": "stdout",
     "output_type": "stream",
     "text": [
      "0 [ 0.49667621 -0.13840939  0.6476858   1.52297324] 1.1785958344356262\n",
      "50 [ 0.494784   -0.14564801  0.6475462   1.52014828] 1.1657985749255426\n",
      "100 [ 0.49290109 -0.15285535  0.64740132  1.51733474] 1.1531112685708473\n",
      "150 [ 0.49102761 -0.16003088  0.64725118  1.51453281] 1.1405352753305018\n",
      "200 [ 0.48916364 -0.16717404  0.64709581  1.51174267] 1.1280719326917483\n",
      "250 [ 0.48730929 -0.17428428  0.64693524  1.50896452] 1.1157225565960736\n",
      "300 [ 0.48546465 -0.18136107  0.64676951  1.50619853] 1.103488442622439\n",
      "350 [ 0.48362982 -0.18840385  0.64659868  1.5034449 ] 1.0913708674192037\n",
      "400 [ 0.48180488 -0.19541206  0.64642281  1.50070383] 1.0793710903721336\n",
      "450 [ 0.47998993 -0.20238516  0.64624195  1.49797551] 1.0674903554915993\n",
      "500 [ 0.47822106 -0.20918419  0.64605995  1.49531432] 1.0559639161585663\n"
     ]
    }
   ],
   "source": [
    "W = eval_model_print(X_st, y, iterations=500, eta=1e-4)"
   ]
  },
  {
   "cell_type": "markdown",
   "metadata": {},
   "source": [
    "## Домашнее задание <a class='anchor' id='hw'>"
   ]
  },
  {
   "cell_type": "markdown",
   "metadata": {},
   "source": [
    "1. *Измените функцию calc_logloss так, чтобы нули по возможности не попадали в np.log."
   ]
  },
  {
   "cell_type": "code",
   "execution_count": 125,
   "metadata": {},
   "outputs": [],
   "source": [
    "def calc_logloss(y, y_pred):\n",
    "    y_pred = np.where(y_pred == 0, y_pred + 1e-5, y_pred)\n",
    "    y_pred = np.where(y_pred == 1, y_pred - 1e-5, y_pred)\n",
    "    err = - np.mean(y * np.log(y_pred) + (1.0 - y) * np.log(1.0 - y_pred))\n",
    "    return y_pred, err"
   ]
  },
  {
   "cell_type": "code",
   "execution_count": 102,
   "metadata": {},
   "outputs": [
    {
     "data": {
      "text/plain": [
       "(array([9.9999e-01, 1.0000e-05, 1.0000e-05]), 1.0000050000287824e-05)"
      ]
     },
     "execution_count": 102,
     "metadata": {},
     "output_type": "execute_result"
    }
   ],
   "source": [
    "# пример применения\n",
    "y2 = np.array([1, 0, 0])\n",
    "y_pred2 = np.array([1, 0, 0])\n",
    "calc_logloss(y2, y_pred2)"
   ]
  },
  {
   "cell_type": "markdown",
   "metadata": {},
   "source": [
    "2. Подберите аргументы функции eval_model для логистической регрессии таким образом, чтобы log loss был минимальным."
   ]
  },
  {
   "cell_type": "code",
   "execution_count": 126,
   "metadata": {},
   "outputs": [],
   "source": [
    "def eval_model(X, y, iterations, eta=1e-4):\n",
    "    np.random.seed(42)\n",
    "    W = np.random.randn(X.shape[1])\n",
    "    n = X.shape[0]\n",
    "    \n",
    "    for i in range(iterations):\n",
    "        z = np.dot(X, W)\n",
    "        y_pred = sigmoid(z)\n",
    "        y_pred, err = calc_logloss(y, y_pred)\n",
    "        \n",
    "        dQ = 1/n * X.T @ (y_pred - y)\n",
    "        W -= eta * dQ\n",
    "\n",
    "    return W, err"
   ]
  },
  {
   "cell_type": "code",
   "execution_count": 129,
   "metadata": {
    "scrolled": false
   },
   "outputs": [
    {
     "name": "stdout",
     "output_type": "stream",
     "text": [
      "step = 0 iter = 10000 , eta = 0.0001 , err = 0.5201522304551885\n",
      "step = 1 iter = 10000 , eta = 0.0008071428571428573 , err = 0.4812662460315983\n",
      "step = 2 iter = 10000 , eta = 0.0015142857142857145 , err = 0.46574317287414235\n",
      "step = 3 iter = 10000 , eta = 0.0022214285714285717 , err = 0.453585284190417\n",
      "step = 4 iter = 10000 , eta = 0.002928571428571429 , err = 0.4431728249360395\n",
      "step = 5 iter = 10000 , eta = 0.003635714285714286 , err = 0.4338960399142403\n",
      "step = 6 iter = 10000 , eta = 0.004342857142857144 , err = 0.4254448518387792\n",
      "step = 7 iter = 10000 , eta = 0.005050000000000001 , err = 0.4176452018708739\n",
      "step = 8 iter = 10000 , eta = 0.005757142857142858 , err = 0.4103906994016091\n",
      "step = 9 iter = 10000 , eta = 0.006464285714285716 , err = 0.40361057170815895\n",
      "step = 10 iter = 10000 , eta = 0.0071714285714285725 , err = 0.3972537278153102\n",
      "step = 11 iter = 10000 , eta = 0.00787857142857143 , err = 0.3912805057870223\n",
      "step = 12 iter = 10000 , eta = 0.008585714285714287 , err = 0.38565826784423757\n",
      "step = 13 iter = 10000 , eta = 0.009292857142857144 , err = 0.38035899039698384\n",
      "step = 14 iter = 10000 , eta = 0.01 , err = 0.37535791327522355\n",
      "step = 15 iter = 20000 , eta = 0.0001 , err = 0.5084293437598224\n",
      "step = 16 iter = 20000 , eta = 0.0008071428571428573 , err = 0.46387827230510803\n",
      "step = 17 iter = 20000 , eta = 0.0015142857142857145 , err = 0.4417997066670039\n",
      "step = 18 iter = 20000 , eta = 0.0022214285714285717 , err = 0.4243032828937472\n",
      "step = 19 iter = 20000 , eta = 0.002928571428571429 , err = 0.40940214742264747\n",
      "step = 20 iter = 20000 , eta = 0.003635714285714286 , err = 0.3963841222681134\n",
      "step = 21 iter = 20000 , eta = 0.004342857142857144 , err = 0.384887383532334\n",
      "step = 22 iter = 20000 , eta = 0.005050000000000001 , err = 0.3746709664833189\n",
      "step = 23 iter = 20000 , eta = 0.005757142857142858 , err = 0.3655483340027878\n",
      "step = 24 iter = 20000 , eta = 0.006464285714285716 , err = 0.3573657127340904\n",
      "step = 25 iter = 20000 , eta = 0.0071714285714285725 , err = 0.3499935786681378\n",
      "step = 26 iter = 20000 , eta = 0.00787857142857143 , err = 0.34332216380300545\n",
      "step = 27 iter = 20000 , eta = 0.008585714285714287 , err = 0.33725831010668583\n",
      "step = 28 iter = 20000 , eta = 0.009292857142857144 , err = 0.331722909247996\n",
      "step = 29 iter = 20000 , eta = 0.01 , err = 0.3266487190104308\n",
      "step = 30 iter = 30000 , eta = 0.0001 , err = 0.5009380586539908\n",
      "step = 31 iter = 30000 , eta = 0.0008071428571428573 , err = 0.45049633986823645\n",
      "step = 32 iter = 30000 , eta = 0.0015142857142857145 , err = 0.423175600330633\n",
      "step = 33 iter = 30000 , eta = 0.0022214285714285717 , err = 0.40176845313055354\n",
      "step = 34 iter = 30000 , eta = 0.002928571428571429 , err = 0.3841245358887805\n",
      "step = 35 iter = 30000 , eta = 0.003635714285714286 , err = 0.36934029067483076\n",
      "step = 36 iter = 30000 , eta = 0.004342857142857144 , err = 0.3568184284195042\n",
      "step = 37 iter = 30000 , eta = 0.005050000000000001 , err = 0.3461058998664359\n",
      "step = 38 iter = 30000 , eta = 0.005757142857142858 , err = 0.33684971584948464\n",
      "step = 39 iter = 30000 , eta = 0.006464285714285716 , err = 0.32877377255474777\n",
      "step = 40 iter = 30000 , eta = 0.0071714285714285725 , err = 0.3216616478612744\n",
      "step = 41 iter = 30000 , eta = 0.00787857142857143 , err = 0.31534303835430577\n",
      "step = 42 iter = 30000 , eta = 0.008585714285714287 , err = 0.3096831802885093\n",
      "step = 43 iter = 30000 , eta = 0.009292857142857144 , err = 0.3045747177241048\n",
      "step = 44 iter = 30000 , eta = 0.01 , err = 0.2999315037692002\n",
      "step = 45 iter = 40000 , eta = 0.0001 , err = 0.4953754611512321\n",
      "step = 46 iter = 40000 , eta = 0.0008071428571428573 , err = 0.4391183333441627\n",
      "step = 47 iter = 40000 , eta = 0.0015142857142857145 , err = 0.4074561668630364\n",
      "step = 48 iter = 40000 , eta = 0.0022214285714285717 , err = 0.3833684108584068\n",
      "step = 49 iter = 40000 , eta = 0.002928571428571429 , err = 0.36433614349136045\n",
      "step = 50 iter = 40000 , eta = 0.003635714285714286 , err = 0.3490087935083673\n",
      "step = 51 iter = 40000 , eta = 0.004342857142857144 , err = 0.33644408227415085\n",
      "step = 52 iter = 40000 , eta = 0.005050000000000001 , err = 0.325964033579608\n",
      "step = 53 iter = 40000 , eta = 0.005757142857142858 , err = 0.3170784987003467\n",
      "step = 54 iter = 40000 , eta = 0.006464285714285716 , err = 0.30943048642520316\n",
      "step = 55 iter = 40000 , eta = 0.0071714285714285725 , err = 0.3027571407152218\n",
      "step = 56 iter = 40000 , eta = 0.00787857142857143 , err = 0.2968624391215163\n",
      "step = 57 iter = 40000 , eta = 0.008585714285714287 , err = 0.2915982324533738\n",
      "step = 58 iter = 40000 , eta = 0.009292857142857144 , err = 0.2868510515168915\n",
      "step = 59 iter = 40000 , eta = 0.01 , err = 0.2825328605428862\n",
      "step = 60 iter = 50000 , eta = 0.0001 , err = 0.4910080188499569\n",
      "step = 61 iter = 50000 , eta = 0.0008071428571428573 , err = 0.42902432049828254\n",
      "step = 62 iter = 50000 , eta = 0.0015142857142857145 , err = 0.3938261059007443\n",
      "step = 63 iter = 50000 , eta = 0.0022214285714285717 , err = 0.3680704623021517\n",
      "step = 64 iter = 50000 , eta = 0.002928571428571429 , err = 0.34852190049594417\n",
      "step = 65 iter = 50000 , eta = 0.003635714285714286 , err = 0.3332651959824811\n",
      "step = 66 iter = 50000 , eta = 0.004342857142857144 , err = 0.32103393565404253\n",
      "step = 67 iter = 50000 , eta = 0.005050000000000001 , err = 0.3109819985057076\n",
      "step = 68 iter = 50000 , eta = 0.005757142857142858 , err = 0.3025363179699302\n",
      "step = 69 iter = 50000 , eta = 0.006464285714285716 , err = 0.29530138293617375\n",
      "step = 70 iter = 50000 , eta = 0.0071714285714285725 , err = 0.2889985051816547\n",
      "step = 71 iter = 50000 , eta = 0.00787857142857143 , err = 0.283427198994331\n",
      "step = 72 iter = 50000 , eta = 0.008585714285714287 , err = 0.2784403480240366\n",
      "step = 73 iter = 50000 , eta = 0.009292857142857144 , err = 0.27392797765507904\n",
      "step = 74 iter = 50000 , eta = 0.01 , err = 0.26980645713504214\n",
      "step = 75 iter = 60000 , eta = 0.0001 , err = 0.48739205693400456\n",
      "step = 76 iter = 60000 , eta = 0.0008071428571428573 , err = 0.41986609724725843\n",
      "step = 77 iter = 60000 , eta = 0.0015142857142857145 , err = 0.38187521782116723\n",
      "step = 78 iter = 60000 , eta = 0.0022214285714285717 , err = 0.35520200607259045\n",
      "step = 79 iter = 60000 , eta = 0.002928571428571429 , err = 0.3356408982774446\n",
      "step = 80 iter = 60000 , eta = 0.003635714285714286 , err = 0.3207227961451192\n",
      "step = 81 iter = 60000 , eta = 0.004342857142857144 , err = 0.3089289821979305\n",
      "step = 82 iter = 60000 , eta = 0.005050000000000001 , err = 0.29930781004033663\n",
      "step = 83 iter = 60000 , eta = 0.005757142857142858 , err = 0.2912465532464486\n",
      "step = 84 iter = 60000 , eta = 0.006464285714285716 , err = 0.2843387144905247\n",
      "step = 85 iter = 60000 , eta = 0.0071714285714285725 , err = 0.2783065922976035\n",
      "step = 86 iter = 60000 , eta = 0.00787857142857143 , err = 0.27295521565713987\n",
      "step = 87 iter = 60000 , eta = 0.008585714285714287 , err = 0.26814424171325274\n",
      "step = 88 iter = 60000 , eta = 0.009292857142857144 , err = 0.2637703495834375\n",
      "step = 89 iter = 60000 , eta = 0.01 , err = 0.2597559180746458\n",
      "step = 90 iter = 70000 , eta = 0.0001 , err = 0.48426128668628354\n",
      "step = 91 iter = 70000 , eta = 0.0008071428571428573 , err = 0.41145403481282716\n",
      "step = 92 iter = 70000 , eta = 0.0015142857142857145 , err = 0.37132754905665344\n",
      "step = 93 iter = 70000 , eta = 0.0022214285714285717 , err = 0.34425768818916275\n",
      "step = 94 iter = 70000 , eta = 0.002928571428571429 , err = 0.32495282361818434\n",
      "step = 95 iter = 70000 , eta = 0.003635714285714286 , err = 0.31046561281578633\n",
      "step = 96 iter = 70000 , eta = 0.004342857142857144 , err = 0.29910172069263474\n",
      "step = 97 iter = 70000 , eta = 0.005050000000000001 , err = 0.2898534636161168\n",
      "step = 98 iter = 70000 , eta = 0.005757142857142858 , err = 0.28209683338430563\n",
      "step = 99 iter = 70000 , eta = 0.006464285714285716 , err = 0.27542975337363235\n",
      "step = 100 iter = 70000 , eta = 0.0071714285714285725 , err = 0.2695835162562332\n",
      "step = 101 iter = 70000 , eta = 0.00787857142857143 , err = 0.2643725857638036\n",
      "step = 102 iter = 70000 , eta = 0.008585714285714287 , err = 0.25966509705192425\n",
      "step = 103 iter = 70000 , eta = 0.009292857142857144 , err = 0.255364908401499\n",
      "step = 104 iter = 70000 , eta = 0.01 , err = 0.2514003233342506\n",
      "step = 105 iter = 80000 , eta = 0.0001 , err = 0.48145597679032415\n",
      "step = 106 iter = 80000 , eta = 0.0008071428571428573 , err = 0.4036727303772567\n",
      "step = 107 iter = 80000 , eta = 0.0015142857142857145 , err = 0.3619683149701438\n",
      "step = 108 iter = 80000 , eta = 0.0022214285714285717 , err = 0.3348480358281514\n",
      "step = 109 iter = 80000 , eta = 0.002928571428571429 , err = 0.3159283501702206\n",
      "step = 110 iter = 80000 , eta = 0.003635714285714286 , err = 0.3018797975756794\n",
      "step = 111 iter = 80000 , eta = 0.004342857142857144 , err = 0.2908975115728964\n",
      "step = 112 iter = 80000 , eta = 0.005050000000000001 , err = 0.28195241044876257\n",
      "step = 113 iter = 80000 , eta = 0.005757142857142858 , err = 0.2744261561918703\n",
      "step = 114 iter = 80000 , eta = 0.006464285714285716 , err = 0.2679288818684158\n",
      "step = 115 iter = 80000 , eta = 0.0071714285714285725 , err = 0.26220411584018116\n",
      "step = 116 iter = 80000 , eta = 0.00787857142857143 , err = 0.25707679872286177\n",
      "step = 117 iter = 80000 , eta = 0.008585714285714287 , err = 0.2524235547999078\n",
      "step = 118 iter = 80000 , eta = 0.009292857142857144 , err = 0.2481549772982546\n",
      "step = 119 iter = 80000 , eta = 0.01 , err = 0.2442046756997002\n",
      "step = 120 iter = 90000 , eta = 0.0001 , err = 0.47887945346324096\n",
      "step = 121 iter = 90000 , eta = 0.0008071428571428573 , err = 0.39644391887847963\n",
      "step = 122 iter = 90000 , eta = 0.0015142857142857145 , err = 0.35362103277751256\n",
      "step = 123 iter = 90000 , eta = 0.0022214285714285717 , err = 0.3266718181355457\n",
      "step = 124 iter = 90000 , eta = 0.002928571428571429 , err = 0.30818585648587876\n",
      "step = 125 iter = 90000 , eta = 0.003635714285714286 , err = 0.29454566219119555\n",
      "step = 126 iter = 90000 , eta = 0.004342857142857144 , err = 0.28388599103417306\n",
      "step = 127 iter = 90000 , eta = 0.005050000000000001 , err = 0.27517904699728685\n",
      "step = 128 iter = 90000 , eta = 0.005757142857142858 , err = 0.2678215716905025\n",
      "step = 129 iter = 90000 , eta = 0.006464285714285716 , err = 0.26143934099614535\n",
      "step = 130 iter = 90000 , eta = 0.0071714285714285725 , err = 0.25578895751736985\n",
      "step = 131 iter = 90000 , eta = 0.00787857142857143 , err = 0.2507056012880676\n",
      "step = 132 iter = 90000 , eta = 0.008585714285714287 , err = 0.2460737449840773\n",
      "step = 133 iter = 90000 , eta = 0.009292857142857144 , err = 0.2418099657041739\n",
      "step = 134 iter = 90000 , eta = 0.01 , err = 0.23785244009370948\n",
      "step = 135 iter = 100000 , eta = 0.0001 , err = 0.47647213803775895\n",
      "step = 136 iter = 100000 , eta = 0.0008071428571428573 , err = 0.38970915647373416\n",
      "step = 137 iter = 100000 , eta = 0.0015142857142857145 , err = 0.34613831424685537\n",
      "step = 138 iter = 100000 , eta = 0.0022214285714285717 , err = 0.3194954310051717\n",
      "step = 139 iter = 100000 , eta = 0.002928571428571429 , err = 0.30144689568892624\n",
      "step = 140 iter = 100000 , eta = 0.003635714285714286 , err = 0.28816989476267263\n",
      "step = 141 iter = 100000 , eta = 0.004342857142857144 , err = 0.277775426956026\n",
      "step = 142 iter = 100000 , eta = 0.005050000000000001 , err = 0.2692510981045805\n",
      "step = 143 iter = 100000 , eta = 0.005757142857142858 , err = 0.2620134775525289\n",
      "step = 144 iter = 100000 , eta = 0.006464285714285716 , err = 0.25570504289009416\n",
      "step = 145 iter = 100000 , eta = 0.0071714285714285725 , err = 0.25009515623443146\n",
      "step = 146 iter = 100000 , eta = 0.00787857142857143 , err = 0.24502847389995103\n",
      "step = 147 iter = 100000 , eta = 0.008585714285714287 , err = 0.24039646635810094\n",
      "step = 148 iter = 100000 , eta = 0.009292857142857144 , err = 0.23612088918719146\n",
      "step = 149 iter = 100000 , eta = 0.01 , err = 0.2321437671191425\n",
      "Min error: 0.2321437671191425 , step: 149\n",
      "Wall time: 4min 5s\n"
     ]
    },
    {
     "data": {
      "image/png": "[encoded data removed]",
      "text/plain": [
       "<Figure size 936x648 with 1 Axes>"
      ]
     },
     "metadata": {
      "needs_background": "light"
     },
     "output_type": "display_data"
    }
   ],
   "source": [
    "%%time\n",
    "# Итерации\n",
    "n_iterations_list = np.linspace(10000, 100000, 10).astype('int')\n",
    "# Шаги\n",
    "etas = np.linspace(0.0001, 0.01, 15)\n",
    "\n",
    "# потери будем записывать в список для отображения в виде графика\n",
    "errors = []\n",
    "step = 0\n",
    "\n",
    "for n_iterations in n_iterations_list:\n",
    "    for eta in etas:\n",
    "        w, err = eval_model(X_st, y, n_iterations, eta)\n",
    "        \n",
    "        step += 1\n",
    "        errors.append(err)\n",
    "\n",
    "plt.figure(figsize=(13, 9))\n",
    "plt.xlabel('step')\n",
    "plt.ylabel('error')\n",
    "plt.grid()\n",
    "plt.plot(range(step), errors);\n",
    "\n",
    "for i in range(step):\n",
    "    i_iter = i // len(etas)\n",
    "    i_eta = i - i_iter * len(etas)\n",
    "    print('step =', i, 'iter =', n_iterations_list[i_iter], ', eta =',  etas[i_eta], ', err =', errors[i])\n",
    "    \n",
    "print('Min error:', min(errors), ', step:', errors.index(min(errors)))"
   ]
  },
  {
   "cell_type": "markdown",
   "metadata": {},
   "source": [
    "Чувствуется эффект переобучения при eta > 0.01, веса становятся очень большими.\n",
    "Опытным путем подобрал, что количество итераций может стремиться до бесконечности, а eta = 0.01"
   ]
  },
  {
   "cell_type": "code",
   "execution_count": 232,
   "metadata": {
    "scrolled": true
   },
   "outputs": [
    {
     "name": "stdout",
     "output_type": "stream",
     "text": [
      "0 [ 0.49292028 -0.15277306  0.64741473  1.51736839] (array([0.77678197, 0.81967624, 0.95100063, 0.69583154, 0.97730047,\n",
      "       0.85643521, 0.9937923 , 0.99364588, 0.76498816, 0.9644164 ]), 1.1785958344356262)\n",
      "10000 [-2.51859539 -0.94526548  0.40020792  3.13260413] (array([0.32666824, 0.36396633, 0.84161528, 0.01187011, 0.78632165,\n",
      "       0.61529466, 0.92996279, 0.15091587, 0.31765515, 0.8672287 ]), 0.37535104091786076)\n",
      "20000 [-4.27636089 -0.98163197 -0.27404823  4.26190358] (array([0.32571389, 0.30139871, 0.91768332, 0.00891866, 0.73771242,\n",
      "       0.5211064 , 0.96457978, 0.13167205, 0.33194918, 0.90636304]), 0.3266452802377501)\n",
      "30000 [-5.56029067 -1.03174275 -0.73817187  5.15128174] (array([0.32791126, 0.26461923, 0.95352517, 0.00671401, 0.71584535,\n",
      "       0.46441437, 0.98083953, 0.12086646, 0.34489962, 0.93343506]), 0.29992941321768546)\n",
      "40000 [-6.58505076 -1.08569439 -1.09081936  5.8979985 ] (array([0.33088331, 0.23974141, 0.97195955, 0.00510762, 0.70792126,\n",
      "       0.42718117, 0.98900637, 0.11366664, 0.35624113, 0.95181325]), 0.2825314011378889)\n",
      "50000 [-7.45452707 -1.13932291 -1.38011056  6.55229421] (array([0.33411869, 0.22117314, 0.98222041, 0.00394443, 0.70685331,\n",
      "       0.40031826, 0.99338278, 0.1083007 , 0.36648915, 0.9644367 ]), 0.2698053402717111)\n",
      "60000 [-8.22283088 -1.19149845 -1.62966903  7.1429085 ] (array([0.33737474, 0.20633228, 0.98829704, 0.00308821, 0.70931964,\n",
      "       0.37947798, 0.9958641 , 0.1039614 , 0.37590295, 0.97329767]), 0.25975500932094964)\n",
      "70000 [-8.9205223  -1.24198713 -1.85228427  7.68713321] (array([0.34053769, 0.1938975 , 0.99207064, 0.00244608, 0.71367532,\n",
      "       0.36241671, 0.99733643, 0.10025054, 0.38463909, 0.97965258]), 0.2513995524042584)\n",
      "80000 [-9.5660847  -1.29082061 -2.05546494  8.19590938] (array([0.34355652, 0.18313181, 0.99450183, 0.0019565 , 0.7190506 ,\n",
      "       0.34788498, 0.99824239, 0.09695665, 0.39280461, 0.98429726]), 0.24420400238940002)\n",
      "90000 [-10.17134369  -1.33810265  -2.24391155   8.67648179] (array([0.34641092, 0.17359403, 0.99611443, 0.00157803, 0.72495927,\n",
      "       0.33514058, 0.99881645, 0.09395976, 0.40047778, 0.98774753]), 0.23785183971079435)\n",
      "100000 [-10.74417094  -1.38394305  -2.42070613   9.13379901] (array([0.34909551, 0.16500474, 0.99720954, 0.00128208, 0.73111677,\n",
      "       0.32371949, 0.99918911, 0.09118805, 0.40771761, 0.99034629]), 0.2321437671191425)\n"
     ]
    },
    {
     "data": {
      "text/plain": [
       "array([-10.74417094,  -1.38394305,  -2.42070613,   9.13379901])"
      ]
     },
     "execution_count": 232,
     "metadata": {},
     "output_type": "execute_result"
    }
   ],
   "source": [
    "eval_model_print(X_st, y, iterations=100000, eta=0.01)"
   ]
  },
  {
   "cell_type": "markdown",
   "metadata": {},
   "source": [
    "3. Создайте функцию calc_pred_proba, возвращающую предсказанную вероятность класса 1 (на вход подаются W, который уже посчитан функцией eval_model и X, на выходе - массив y_pred_proba)."
   ]
  },
  {
   "cell_type": "code",
   "execution_count": 132,
   "metadata": {},
   "outputs": [],
   "source": [
    "def calc_pred_proba(W, X):\n",
    "    return np.squeeze(sigmoid(np.dot(X, W)))"
   ]
  },
  {
   "cell_type": "code",
   "execution_count": 135,
   "metadata": {},
   "outputs": [],
   "source": [
    "W, err = eval_model(X_st, y, iterations=100000, eta=0.01)"
   ]
  },
  {
   "cell_type": "code",
   "execution_count": 136,
   "metadata": {},
   "outputs": [
    {
     "data": {
      "text/plain": [
       "array([-10.74417094,  -1.38394305,  -2.42070613,   9.13379901])"
      ]
     },
     "execution_count": 136,
     "metadata": {},
     "output_type": "execute_result"
    }
   ],
   "source": [
    "W"
   ]
  },
  {
   "cell_type": "code",
   "execution_count": 142,
   "metadata": {},
   "outputs": [
    {
     "data": {
      "text/plain": [
       "array([0.34909577, 0.16500392, 0.99720963, 0.00128205, 0.73111739,\n",
       "       0.3237184 , 0.99918914, 0.09118778, 0.40771831, 0.99034651])"
      ]
     },
     "execution_count": 142,
     "metadata": {},
     "output_type": "execute_result"
    }
   ],
   "source": [
    "y_pred_proba = calc_pred_proba(W, X_st)\n",
    "y_pred_proba"
   ]
  },
  {
   "cell_type": "code",
   "execution_count": 140,
   "metadata": {},
   "outputs": [
    {
     "data": {
      "text/plain": [
       "array([0., 0., 1., 0., 1., 0., 1., 0., 1., 1.])"
      ]
     },
     "execution_count": 140,
     "metadata": {},
     "output_type": "execute_result"
    }
   ],
   "source": [
    "y"
   ]
  },
  {
   "cell_type": "code",
   "execution_count": 141,
   "metadata": {},
   "outputs": [],
   "source": [
    "import pandas as pd"
   ]
  },
  {
   "cell_type": "code",
   "execution_count": 148,
   "metadata": {},
   "outputs": [
    {
     "data": {
      "text/html": [
       "<div>\n",
       "<style scoped>\n",
       "    .dataframe tbody tr th:only-of-type {\n",
       "        vertical-align: middle;\n",
       "    }\n",
       "\n",
       "    .dataframe tbody tr th {\n",
       "        vertical-align: top;\n",
       "    }\n",
       "\n",
       "    .dataframe thead th {\n",
       "        text-align: right;\n",
       "    }\n",
       "</style>\n",
       "<table border=\"1\" class=\"dataframe\">\n",
       "  <thead>\n",
       "    <tr style=\"text-align: right;\">\n",
       "      <th></th>\n",
       "      <th>y</th>\n",
       "      <th>y_pred_proba</th>\n",
       "    </tr>\n",
       "  </thead>\n",
       "  <tbody>\n",
       "    <tr>\n",
       "      <th>0</th>\n",
       "      <td>0</td>\n",
       "      <td>0.349096</td>\n",
       "    </tr>\n",
       "    <tr>\n",
       "      <th>1</th>\n",
       "      <td>0</td>\n",
       "      <td>0.165004</td>\n",
       "    </tr>\n",
       "    <tr>\n",
       "      <th>2</th>\n",
       "      <td>1</td>\n",
       "      <td>0.997210</td>\n",
       "    </tr>\n",
       "    <tr>\n",
       "      <th>3</th>\n",
       "      <td>0</td>\n",
       "      <td>0.001282</td>\n",
       "    </tr>\n",
       "    <tr>\n",
       "      <th>4</th>\n",
       "      <td>1</td>\n",
       "      <td>0.731117</td>\n",
       "    </tr>\n",
       "    <tr>\n",
       "      <th>5</th>\n",
       "      <td>0</td>\n",
       "      <td>0.323718</td>\n",
       "    </tr>\n",
       "    <tr>\n",
       "      <th>6</th>\n",
       "      <td>1</td>\n",
       "      <td>0.999189</td>\n",
       "    </tr>\n",
       "    <tr>\n",
       "      <th>7</th>\n",
       "      <td>0</td>\n",
       "      <td>0.091188</td>\n",
       "    </tr>\n",
       "    <tr>\n",
       "      <th>8</th>\n",
       "      <td>1</td>\n",
       "      <td>0.407718</td>\n",
       "    </tr>\n",
       "    <tr>\n",
       "      <th>9</th>\n",
       "      <td>1</td>\n",
       "      <td>0.990347</td>\n",
       "    </tr>\n",
       "  </tbody>\n",
       "</table>\n",
       "</div>"
      ],
      "text/plain": [
       "   y  y_pred_proba\n",
       "0  0      0.349096\n",
       "1  0      0.165004\n",
       "2  1      0.997210\n",
       "3  0      0.001282\n",
       "4  1      0.731117\n",
       "5  0      0.323718\n",
       "6  1      0.999189\n",
       "7  0      0.091188\n",
       "8  1      0.407718\n",
       "9  1      0.990347"
      ]
     },
     "execution_count": 148,
     "metadata": {},
     "output_type": "execute_result"
    }
   ],
   "source": [
    "d = {'y': y.astype('int'), 'y_pred_proba': y_pred_proba}\n",
    "pd.DataFrame(data=d)"
   ]
  },
  {
   "cell_type": "markdown",
   "metadata": {},
   "source": [
    "4. Создайте функцию calc_pred, возвращающую предсказанный класс (на вход подаются W, который уже посчитан функцией eval_model и X, на выходе - массив y_pred)."
   ]
  },
  {
   "cell_type": "code",
   "execution_count": 145,
   "metadata": {},
   "outputs": [],
   "source": [
    "def calc_pred(w, X):\n",
    "    \n",
    "    m = X.shape[0]\n",
    "    \n",
    "    y_pred = np.zeros(m)\n",
    "\n",
    "    A = calc_pred_proba(w, X)\n",
    "\n",
    "    # За порог отнесения к тому или иному классу примем вероятность 0.5\n",
    "    for i in range(A.shape[0]):\n",
    "        if (A[i] > 0.5): \n",
    "            y_pred[i] = 1\n",
    "        elif (A[i] <= 0.5):\n",
    "            y_pred[i] = 0\n",
    "\n",
    "    return y_pred"
   ]
  },
  {
   "cell_type": "code",
   "execution_count": 150,
   "metadata": {},
   "outputs": [
    {
     "data": {
      "text/plain": [
       "array([0., 0., 1., 0., 1., 0., 1., 0., 0., 1.])"
      ]
     },
     "execution_count": 150,
     "metadata": {},
     "output_type": "execute_result"
    }
   ],
   "source": [
    "y_pred = calc_pred(W, X_st)\n",
    "y_pred"
   ]
  },
  {
   "cell_type": "code",
   "execution_count": 153,
   "metadata": {},
   "outputs": [
    {
     "data": {
      "text/html": [
       "<div>\n",
       "<style scoped>\n",
       "    .dataframe tbody tr th:only-of-type {\n",
       "        vertical-align: middle;\n",
       "    }\n",
       "\n",
       "    .dataframe tbody tr th {\n",
       "        vertical-align: top;\n",
       "    }\n",
       "\n",
       "    .dataframe thead th {\n",
       "        text-align: right;\n",
       "    }\n",
       "</style>\n",
       "<table border=\"1\" class=\"dataframe\">\n",
       "  <thead>\n",
       "    <tr style=\"text-align: right;\">\n",
       "      <th></th>\n",
       "      <th>y</th>\n",
       "      <th>y_pred_proba</th>\n",
       "      <th>y_pred</th>\n",
       "    </tr>\n",
       "  </thead>\n",
       "  <tbody>\n",
       "    <tr>\n",
       "      <th>0</th>\n",
       "      <td>0</td>\n",
       "      <td>0.349096</td>\n",
       "      <td>0</td>\n",
       "    </tr>\n",
       "    <tr>\n",
       "      <th>1</th>\n",
       "      <td>0</td>\n",
       "      <td>0.165004</td>\n",
       "      <td>0</td>\n",
       "    </tr>\n",
       "    <tr>\n",
       "      <th>2</th>\n",
       "      <td>1</td>\n",
       "      <td>0.997210</td>\n",
       "      <td>1</td>\n",
       "    </tr>\n",
       "    <tr>\n",
       "      <th>3</th>\n",
       "      <td>0</td>\n",
       "      <td>0.001282</td>\n",
       "      <td>0</td>\n",
       "    </tr>\n",
       "    <tr>\n",
       "      <th>4</th>\n",
       "      <td>1</td>\n",
       "      <td>0.731117</td>\n",
       "      <td>1</td>\n",
       "    </tr>\n",
       "    <tr>\n",
       "      <th>5</th>\n",
       "      <td>0</td>\n",
       "      <td>0.323718</td>\n",
       "      <td>0</td>\n",
       "    </tr>\n",
       "    <tr>\n",
       "      <th>6</th>\n",
       "      <td>1</td>\n",
       "      <td>0.999189</td>\n",
       "      <td>1</td>\n",
       "    </tr>\n",
       "    <tr>\n",
       "      <th>7</th>\n",
       "      <td>0</td>\n",
       "      <td>0.091188</td>\n",
       "      <td>0</td>\n",
       "    </tr>\n",
       "    <tr>\n",
       "      <th>8</th>\n",
       "      <td>1</td>\n",
       "      <td>0.407718</td>\n",
       "      <td>0</td>\n",
       "    </tr>\n",
       "    <tr>\n",
       "      <th>9</th>\n",
       "      <td>1</td>\n",
       "      <td>0.990347</td>\n",
       "      <td>1</td>\n",
       "    </tr>\n",
       "  </tbody>\n",
       "</table>\n",
       "</div>"
      ],
      "text/plain": [
       "   y  y_pred_proba  y_pred\n",
       "0  0      0.349096       0\n",
       "1  0      0.165004       0\n",
       "2  1      0.997210       1\n",
       "3  0      0.001282       0\n",
       "4  1      0.731117       1\n",
       "5  0      0.323718       0\n",
       "6  1      0.999189       1\n",
       "7  0      0.091188       0\n",
       "8  1      0.407718       0\n",
       "9  1      0.990347       1"
      ]
     },
     "execution_count": 153,
     "metadata": {},
     "output_type": "execute_result"
    }
   ],
   "source": [
    "pd.DataFrame({'y': y.astype('int'), 'y_pred_proba': y_pred_proba, 'y_pred': y_pred.astype('int')})"
   ]
  },
  {
   "cell_type": "markdown",
   "metadata": {},
   "source": [
    "5. *Реализуйте функции для подсчета Accuracy, матрицы ошибок, точности и полноты, а также F1 score."
   ]
  },
  {
   "cell_type": "markdown",
   "metadata": {},
   "source": [
    "$$accuracy(a,x) = \\frac{1}{l} \\sum^{l}_{i=1}[a(x_{i})=y_{i}].$$"
   ]
  },
  {
   "cell_type": "markdown",
   "metadata": {},
   "source": [
    "$$precision(a, X) = \\frac{TP}{TP+FP}.$$"
   ]
  },
  {
   "cell_type": "markdown",
   "metadata": {},
   "source": [
    "$$recall(a, X) = \\frac{TP}{TP+FN},$$"
   ]
  },
  {
   "cell_type": "markdown",
   "metadata": {},
   "source": [
    "$$F1 = \\frac{2 \\cdot precision \\cdot recall }{ presision + recall}.$$"
   ]
  },
  {
   "cell_type": "code",
   "execution_count": 221,
   "metadata": {
    "scrolled": true
   },
   "outputs": [
    {
     "data": {
      "text/html": [
       "<div>\n",
       "<style scoped>\n",
       "    .dataframe tbody tr th:only-of-type {\n",
       "        vertical-align: middle;\n",
       "    }\n",
       "\n",
       "    .dataframe tbody tr th {\n",
       "        vertical-align: top;\n",
       "    }\n",
       "\n",
       "    .dataframe thead th {\n",
       "        text-align: right;\n",
       "    }\n",
       "</style>\n",
       "<table border=\"1\" class=\"dataframe\">\n",
       "  <thead>\n",
       "    <tr style=\"text-align: right;\">\n",
       "      <th></th>\n",
       "      <th>y_pred</th>\n",
       "      <th>y</th>\n",
       "    </tr>\n",
       "  </thead>\n",
       "  <tbody>\n",
       "    <tr>\n",
       "      <th>0</th>\n",
       "      <td>0</td>\n",
       "      <td>0</td>\n",
       "    </tr>\n",
       "    <tr>\n",
       "      <th>1</th>\n",
       "      <td>0</td>\n",
       "      <td>0</td>\n",
       "    </tr>\n",
       "    <tr>\n",
       "      <th>2</th>\n",
       "      <td>1</td>\n",
       "      <td>1</td>\n",
       "    </tr>\n",
       "    <tr>\n",
       "      <th>3</th>\n",
       "      <td>0</td>\n",
       "      <td>0</td>\n",
       "    </tr>\n",
       "    <tr>\n",
       "      <th>4</th>\n",
       "      <td>1</td>\n",
       "      <td>1</td>\n",
       "    </tr>\n",
       "    <tr>\n",
       "      <th>5</th>\n",
       "      <td>0</td>\n",
       "      <td>0</td>\n",
       "    </tr>\n",
       "    <tr>\n",
       "      <th>6</th>\n",
       "      <td>1</td>\n",
       "      <td>1</td>\n",
       "    </tr>\n",
       "    <tr>\n",
       "      <th>7</th>\n",
       "      <td>0</td>\n",
       "      <td>0</td>\n",
       "    </tr>\n",
       "    <tr>\n",
       "      <th>8</th>\n",
       "      <td>0</td>\n",
       "      <td>1</td>\n",
       "    </tr>\n",
       "    <tr>\n",
       "      <th>9</th>\n",
       "      <td>1</td>\n",
       "      <td>1</td>\n",
       "    </tr>\n",
       "  </tbody>\n",
       "</table>\n",
       "</div>"
      ],
      "text/plain": [
       "   y_pred  y\n",
       "0       0  0\n",
       "1       0  0\n",
       "2       1  1\n",
       "3       0  0\n",
       "4       1  1\n",
       "5       0  0\n",
       "6       1  1\n",
       "7       0  0\n",
       "8       0  1\n",
       "9       1  1"
      ]
     },
     "execution_count": 221,
     "metadata": {},
     "output_type": "execute_result"
    }
   ],
   "source": [
    "pd.DataFrame({'y_pred': y_pred.astype('int'), 'y': y.astype('int')})"
   ]
  },
  {
   "cell_type": "code",
   "execution_count": 223,
   "metadata": {},
   "outputs": [
    {
     "name": "stdout",
     "output_type": "stream",
     "text": [
      "Матрица ошибок:\n"
     ]
    },
    {
     "data": {
      "text/plain": [
       "array([[4, 0],\n",
       "       [1, 5]])"
      ]
     },
     "execution_count": 223,
     "metadata": {},
     "output_type": "execute_result"
    }
   ],
   "source": [
    "TP = len(y_pred[(y_pred == 1)&(y_pred == y)])\n",
    "FP = len(y_pred[(y_pred == 1)&(y_pred != y)])\n",
    "FN = len(y_pred[(y_pred == 0)&(y_pred != y)])\n",
    "TN = len(y_pred[(y_pred == 0)&(y_pred == y)])\n",
    "\n",
    "print('Матрица ошибок:')\n",
    "np.array([[TP, FP],\n",
    "          [FN, TN]])"
   ]
  },
  {
   "cell_type": "code",
   "execution_count": 169,
   "metadata": {},
   "outputs": [],
   "source": [
    "def accuracy(w, X, y):\n",
    "    \n",
    "    y_pred = calc_pred(w, X)\n",
    "    \n",
    "    return len(y_pred[y_pred == y])/len(y_pred)"
   ]
  },
  {
   "cell_type": "code",
   "execution_count": 171,
   "metadata": {},
   "outputs": [
    {
     "data": {
      "text/plain": [
       "0.9"
      ]
     },
     "execution_count": 171,
     "metadata": {},
     "output_type": "execute_result"
    }
   ],
   "source": [
    "accuracy(W, X_st, y)"
   ]
  },
  {
   "cell_type": "code",
   "execution_count": 213,
   "metadata": {},
   "outputs": [],
   "source": [
    "def precision(w, X, y):\n",
    "    \n",
    "    y_pred = calc_pred(w, X)\n",
    "    TP = len(y_pred[(y_pred == 1)&(y_pred == y)])\n",
    "    FP = len(y_pred[(y_pred == 1)&(y_pred != y)])\n",
    "    \n",
    "    return TP/(TP+FP)"
   ]
  },
  {
   "cell_type": "code",
   "execution_count": 214,
   "metadata": {
    "scrolled": true
   },
   "outputs": [
    {
     "data": {
      "text/plain": [
       "1.0"
      ]
     },
     "execution_count": 214,
     "metadata": {},
     "output_type": "execute_result"
    }
   ],
   "source": [
    "precision(W, X_st, y)"
   ]
  },
  {
   "cell_type": "code",
   "execution_count": 224,
   "metadata": {},
   "outputs": [],
   "source": [
    "def recall(w, X, y):\n",
    "    \n",
    "    y_pred = calc_pred(w, X)\n",
    "    TP = len(y_pred[(y_pred == 1)&(y_pred == y)])\n",
    "    FN = len(y_pred[(y_pred == 0)&(y_pred != y)])\n",
    "    \n",
    "    return TP/(TP+FN)"
   ]
  },
  {
   "cell_type": "code",
   "execution_count": 225,
   "metadata": {
    "scrolled": true
   },
   "outputs": [
    {
     "data": {
      "text/plain": [
       "0.8"
      ]
     },
     "execution_count": 225,
     "metadata": {},
     "output_type": "execute_result"
    }
   ],
   "source": [
    "recall(W, X_st, y)"
   ]
  },
  {
   "cell_type": "code",
   "execution_count": 229,
   "metadata": {},
   "outputs": [],
   "source": [
    "def f1_score(w, X, y):\n",
    "    \n",
    "    return 2*precision(w, X, y)*recall(w, X, y)/(precision(w, X, y)+recall(w, X, y))    "
   ]
  },
  {
   "cell_type": "code",
   "execution_count": 230,
   "metadata": {},
   "outputs": [
    {
     "data": {
      "text/plain": [
       "0.888888888888889"
      ]
     },
     "execution_count": 230,
     "metadata": {},
     "output_type": "execute_result"
    }
   ],
   "source": [
    "f1_score(W, X_st, y)"
   ]
  },
  {
   "cell_type": "markdown",
   "metadata": {},
   "source": [
    "6. Могла ли модель переобучиться? Почему?"
   ]
  },
  {
   "cell_type": "markdown",
   "metadata": {},
   "source": [
    "По моему наблюдению единственный критерий, по которому можно понять переобучилась модель или нет, это повышение весов W при eta > 0.01"
   ]
  },
  {
   "cell_type": "code",
   "execution_count": 239,
   "metadata": {},
   "outputs": [
    {
     "name": "stdout",
     "output_type": "stream",
     "text": [
      "0 [ 0.45877546 -0.2833519   0.6449505   1.46641523] (array([0.77678197, 0.81967624, 0.95100063, 0.69583154, 0.97730047,\n",
      "       0.85643521, 0.9937923 , 0.99364588, 0.76498816, 0.9644164 ]), 1.1785958344356262)\n",
      "10000 [-10.74518967  -1.38402525  -2.42101957   9.13461388] (array([0.34909794, 0.16499718, 0.99721038, 0.00128184, 0.73112245,\n",
      "       0.32370941, 0.99918939, 0.0911856 , 0.40772414, 0.99034837]), 0.2321387488434184)\n",
      "20000 [-15.42754617  -1.78141273  -3.82881206  12.91762302] (array([3.68030169e-01, 1.07181954e-01, 9.99819801e-01, 2.12623304e-04,\n",
      "       7.87975945e-01, 2.44518098e-01, 9.99965431e-01, 7.02850600e-02,\n",
      "       4.63593993e-01, 9.98704156e-01]), 0.193432076158086)\n",
      "30000 [-19.03214673  -2.10018205  -4.88462075  15.84722845] (array([3.77498615e-01, 7.48240215e-02, 9.99978085e-01, 4.97662151e-05,\n",
      "       8.28753104e-01, 1.94344341e-01, 9.99997009e-01, 5.63792746e-02,\n",
      "       5.00871889e-01, 9.99728144e-01]), 0.1705495036750297)\n",
      "40000 [-21.99898567  -2.36617547  -5.74184132  18.25923693] (array([3.81950664e-01, 5.47062570e-02, 9.99996087e-01, 1.46654566e-05,\n",
      "       8.57697099e-01, 1.58759506e-01, 9.99999600e-01, 4.65122826e-02,\n",
      "       5.27667549e-01, 9.99924476e-01]), 0.15508406003773315)\n",
      "50000 [-24.52678352  -2.59425824  -6.4658027   20.31294088] (array([3.83606677e-01, 4.14427170e-02, 9.99999091e-01, 5.10829243e-06,\n",
      "       8.78944496e-01, 1.32353844e-01, 9.99999928e-01, 3.92307687e-02,\n",
      "       5.47963287e-01, 9.99974508e-01]), 0.1438800397145662)\n",
      "60000 [-26.7341771   -2.79398809  -7.09424451  22.10455082] (array([3.83630835e-01, 3.22884418e-02, 9.99999744e-01, 2.01866481e-06,\n",
      "       8.95059480e-01, 1.12118182e-01, 9.99999984e-01, 3.36806969e-02,\n",
      "       5.63984626e-01, 9.99990082e-01]), 0.1353513605367366)\n",
      "70000 [-28.69854717  -2.9718268   -7.6512386   23.6970608 ] (array([3.82668242e-01, 2.57298396e-02, 9.99999917e-01, 8.79969676e-07,\n",
      "       9.07627627e-01, 9.62045130e-02, 9.99999996e-01, 2.93349752e-02,\n",
      "       5.77058945e-01, 9.99995702e-01]), 0.12860785839125313)\n",
      "80000 [-30.4730121   -3.13231139  -8.1530329   25.13378696] (array([3.81093655e-01, 2.08837430e-02, 9.99999970e-01, 4.14796054e-07,\n",
      "       9.17661421e-01, 8.34194411e-02, 9.99999999e-01, 2.58550792e-02,\n",
      "       5.88019439e-01, 9.99997974e-01]), 0.12311312476808903)\n",
      "90000 [-32.09545327  -3.27872995  -8.61106042  26.44564896] (array([3.79133575e-01, 1.72097937e-02, 9.99999988e-01, 2.08372991e-07,\n",
      "       9.25830489e-01, 7.29626651e-02, 1.00000000e+00, 2.30156344e-02,\n",
      "       5.97412422e-01, 9.99998979e-01]), 0.11852579293954377)\n",
      "100000 [-33.59359124  -3.41351803  -9.03359875  27.65528749] (array([3.76929713e-01, 1.43638695e-02, 9.99999995e-01, 1.10350266e-07,\n",
      "       9.32591720e-01, 6.42809754e-02, 1.00000000e+00, 2.06619282e-02,\n",
      "       6.05609073e-01, 9.99999456e-01]), 0.1146191411015645)\n"
     ]
    },
    {
     "data": {
      "text/plain": [
       "array([-33.59359124,  -3.41351803,  -9.03359875,  27.65528749])"
      ]
     },
     "execution_count": 239,
     "metadata": {},
     "output_type": "execute_result"
    }
   ],
   "source": [
    "eval_model_print(X_st, y, iterations=100000, eta=0.1)"
   ]
  },
  {
   "cell_type": "markdown",
   "metadata": {},
   "source": [
    "В данном случае заметил эффект переобучния, так как 1 и 4 веса повысились"
   ]
  },
  {
   "cell_type": "markdown",
   "metadata": {},
   "source": [
    "Хотелось бы еще понять как в таких случаях определять переобучение. Ведь можно и уменьшить количество итераций со 100000 до 10000 при eta = 0.1 и получим нормальные значения весов W"
   ]
  },
  {
   "cell_type": "code",
   "execution_count": 240,
   "metadata": {},
   "outputs": [
    {
     "name": "stdout",
     "output_type": "stream",
     "text": [
      "0 [ 0.45877546 -0.2833519   0.6449505   1.46641523] (array([0.77678197, 0.81967624, 0.95100063, 0.69583154, 0.97730047,\n",
      "       0.85643521, 0.9937923 , 0.99364588, 0.76498816, 0.9644164 ]), 1.1785958344356262)\n",
      "1000 [-2.52102182 -0.94535892  0.39937552  3.13420485] (array([0.32665172, 0.36393965, 0.84164558, 0.01186598, 0.78632545,\n",
      "       0.61527784, 0.92998239, 0.1509004 , 0.31764105, 0.8672491 ]), 0.37533367618380076)\n",
      "2000 [-4.27828712 -0.98168834 -0.27476935  4.26319069] (array([0.32571495, 0.30137989, 0.91770376, 0.00891773, 0.73769792,\n",
      "       0.52107628, 0.96458898, 0.13166687, 0.33195546, 0.90637602]), 0.32663122009930967)\n",
      "3000 [-5.56189789 -1.0318158  -0.73874052  5.15242458] (array([0.32791315, 0.26460394, 0.95353806, 0.00671311, 0.71583736,\n",
      "       0.46439025, 0.98084526, 0.12086235, 0.34490648, 0.93344637]), 0.29991853172016747)\n",
      "4000 [-6.58645538 -1.0857742  -1.0912958   5.89903883] (array([0.33088548, 0.23972873, 0.97196759, 0.00510684, 0.70791839,\n",
      "       0.42716205, 0.98900984, 0.11366317, 0.35624792, 0.95182223]), 0.28252262722907645)\n",
      "5000 [-7.45579588 -1.13940477 -1.38052844  6.55325919] (array([0.334121  , 0.22116229, 0.98222552, 0.00394379, 0.70685363,\n",
      "       0.40030254, 0.9933849 , 0.10829767, 0.36649582, 0.96444359]), 0.26979795435357545)\n",
      "6000 [-8.22400342 -1.19158043 -1.63004704  7.14381634] (array([0.33737712, 0.20632275, 0.98830037, 0.0030877 , 0.70932195,\n",
      "       0.37946459, 0.99586543, 0.10395865, 0.37590949, 0.97330292]), 0.2597485783476199)\n",
      "7000 [-8.92162316 -1.24206841 -1.8526335   7.6879962 ] (array([0.34054006, 0.19388893, 0.99207286, 0.00244567, 0.71367886,\n",
      "       0.36240495, 0.99733728, 0.100248  , 0.38464546, 0.97965659]), 0.25139381160087015)\n",
      "8000 [-9.56712984 -1.29090081 -2.05579238  8.19673599] (array([0.34355884, 0.18312399, 0.99450334, 0.00195617, 0.7190549 ,\n",
      "       0.3478744 , 0.99824294, 0.09695426, 0.3928108 , 0.98430034]), 0.24419878346796206)\n",
      "9000 [-10.17234391  -1.33818162  -2.24422182   8.677278  ] (array([0.34641317, 0.1735868 , 0.99611548, 0.00157776, 0.72496405,\n",
      "       0.33513089, 0.99881682, 0.09395748, 0.40048379, 0.98774991]), 0.2378470312254334)\n",
      "10000 [-10.744631    -1.38398009  -2.42084781   9.13416686] (array([0.34909534, 0.16500537, 0.99720947, 0.0012821 , 0.73111623,\n",
      "       0.32372028, 0.99918908, 0.09118827, 0.4077171 , 0.99034611]), 0.2321441839937929)\n"
     ]
    },
    {
     "data": {
      "text/plain": [
       "array([-10.744631  ,  -1.38398009,  -2.42084781,   9.13416686])"
      ]
     },
     "execution_count": 240,
     "metadata": {},
     "output_type": "execute_result"
    }
   ],
   "source": [
    "eval_model_print(X_st, y, iterations=10000, eta=0.1)"
   ]
  },
  {
   "cell_type": "markdown",
   "metadata": {},
   "source": [
    "Если я правильно понял, то последний вариант считается нормальным обучением. Только в этом случае функция ошибки показывает слабый минимум нежели при обучении за 100000 итераций со скоростью eta = 0.01"
   ]
  },
  {
   "cell_type": "code",
   "execution_count": null,
   "metadata": {},
   "outputs": [],
   "source": []
  }
 ],
 "metadata": {
  "kernelspec": {
   "display_name": "Python 3",
   "language": "python",
   "name": "python3"
  },
  "language_info": {
   "codemirror_mode": {
    "name": "ipython",
    "version": 3
   },
   "file_extension": ".py",
   "mimetype": "text/x-python",
   "name": "python",
   "nbconvert_exporter": "python",
   "pygments_lexer": "ipython3",
   "version": "3.7.6"
  }
 },
 "nbformat": 4,
 "nbformat_minor": 4
}
